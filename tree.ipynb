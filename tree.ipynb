{
 "cells": [
  {
   "cell_type": "markdown",
   "metadata": {},
   "source": [
    "<h1 align=\"center\">Library Import</h1>"
   ]
  },
  {
   "cell_type": "code",
   "execution_count": 1,
   "metadata": {},
   "outputs": [
    {
     "name": "stderr",
     "output_type": "stream",
     "text": [
      "/usr/lib/python3/dist-packages/pytz/__init__.py:31: SyntaxWarning: invalid escape sequence '\\s'\n",
      "  match = re.match(\"^#\\s*version\\s*([0-9a-z]*)\\s*$\", line)\n"
     ]
    }
   ],
   "source": [
    "import pandas as pd"
   ]
  },
  {
   "cell_type": "markdown",
   "metadata": {},
   "source": [
    "<h1 align=\"center\">Select the data we are going to use</h1>"
   ]
  },
  {
   "cell_type": "code",
   "execution_count": 17,
   "metadata": {},
   "outputs": [
    {
     "data": {
      "text/plain": [
       "np.float64(-6.772385964912281)"
      ]
     },
     "execution_count": 17,
     "metadata": {},
     "output_type": "execute_result"
    }
   ],
   "source": [
    "# Load the dataset\n",
    "data = pd.read_csv(\"data/spotify_songs.csv\")\n",
    "data = data.dropna()\n",
    "data = data.drop_duplicates(subset=['track_id', 'track_album_id', 'playlist_id'], inplace=False)\n",
    "\n",
    "# We need first of all to define the different popularity level\n",
    "\n",
    "def DecisionTree(data, song):\n",
    "    # Mondial Hit > 95\n",
    "    MondialHitSongs = data[(data['track_popularity'] > 95)]\n",
    "    # Very Popular > 75 and < 95\n",
    "    VeryPopularSongs = data[(data['track_popularity'] > 75) & (data['track_popularity'] < 95)]\n",
    "    # Popular > 50 and < 75\n",
    "    PopularSongs = data[(data['track_popularity'] > 50) & (data['track_popularity'] < 75)]\n",
    "    # Not Very Popular > 25 and < 50\n",
    "    NotVeryPopularSongs = data[(data['track_popularity'] > 25) & (data['track_popularity'] < 50)]\n",
    "    # Niche > 10 and < 25\n",
    "    NicheSongs = data[(data['track_popularity'] > 10) & (data['track_popularity'] < 25)]\n",
    "    # Unknown < 10\n",
    "    UnknownSongs = data[(data['track_popularity'] < 10)]\n",
    "    moy = MondialHitSongs['loudness'].mean()\n",
    "    return moy\n",
    "\n",
    "DecisionTree(data, \"Hello\")\n",
    "\n"
   ]
  }
 ],
 "metadata": {
  "kernelspec": {
   "display_name": "Python 3",
   "language": "python",
   "name": "python3"
  },
  "language_info": {
   "codemirror_mode": {
    "name": "ipython",
    "version": 3
   },
   "file_extension": ".py",
   "mimetype": "text/x-python",
   "name": "python",
   "nbconvert_exporter": "python",
   "pygments_lexer": "ipython3",
   "version": "3.12.7"
  }
 },
 "nbformat": 4,
 "nbformat_minor": 2
}
